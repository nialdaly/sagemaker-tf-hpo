{
 "cells": [
  {
   "cell_type": "code",
   "execution_count": 1,
   "metadata": {},
   "outputs": [],
   "source": [
    "import boto3\n",
    "import os\n",
    "from botocore.exceptions import ClientError\n",
    "import sagemaker"
   ]
  },
  {
   "cell_type": "markdown",
   "metadata": {},
   "source": [
    "### 1. Data Preparation"
   ]
  },
  {
   "cell_type": "code",
   "execution_count": 2,
   "metadata": {},
   "outputs": [],
   "source": [
    "# Public S3 bucket containing MNIST data\n",
    "public_bucket = 'sagemaker-sample-files'\n",
    "\n",
    "# Downloads train + test data from S3 bucket\n",
    "def download_from_s3(data_dir='/tmp/data', train=True):\n",
    "    \"\"\"Downloads MNIST dataset and converts it to numpy array \"\"\"\n",
    "    # Project root\n",
    "    if not os.path.exists(data_dir):\n",
    "        os.makedirs(data_dir)\n",
    "    \n",
    "    if train:\n",
    "        images_file = \"train-images-idx3-ubyte.gz\"\n",
    "        labels_file = \"train-labels-idx1-ubyte.gz\"\n",
    "    else:\n",
    "        images_file = \"t10k-images-idx3-ubyte.gz\"\n",
    "        labels_file = \"t10k-labels-idx1-ubyte.gz\"\n",
    "    \n",
    "    # Downloads objects\n",
    "    s3 = boto3.client('s3')\n",
    "    bucket = public_bucket\n",
    "    for obj in [images_file, labels_file]:\n",
    "        key = os.path.join(\"datasets/image/MNIST\", obj)\n",
    "        dest = os.path.join(data_dir, obj)\n",
    "        if not os.path.exists(dest):\n",
    "            s3.download_file(bucket, key, dest)\n",
    "    return\n",
    "\n",
    "# Local data directory path\n",
    "local_data_dir = './mnist_data'\n",
    "\n",
    "download_from_s3(local_data_dir, True)\n",
    "download_from_s3(local_data_dir, False)"
   ]
  },
  {
   "cell_type": "code",
   "execution_count": 14,
   "metadata": {},
   "outputs": [
    {
     "data": {
      "text/plain": [
       "'s3://mnist-data-bucket/mnist'"
      ]
     },
     "execution_count": 14,
     "metadata": {},
     "output_type": "execute_result"
    }
   ],
   "source": [
    "s3_location"
   ]
  },
  {
   "cell_type": "code",
   "execution_count": 3,
   "metadata": {},
   "outputs": [
    {
     "data": {
      "text/plain": [
       "s3.Bucket(name='mnist-data-bucket')"
      ]
     },
     "execution_count": 3,
     "metadata": {},
     "output_type": "execute_result"
    }
   ],
   "source": [
    "s3 = boto3.resource('s3')\n",
    "\n",
    "bucket_name = 'mnist-data-bucket'\n",
    "region = 'eu-west-1'\n",
    "\n",
    "s3.create_bucket(\n",
    "    Bucket=bucket_name, \n",
    "    CreateBucketConfiguration={\n",
    "        'LocationConstraint': region\n",
    "    }\n",
    ")"
   ]
  },
  {
   "cell_type": "code",
   "execution_count": 4,
   "metadata": {},
   "outputs": [],
   "source": [
    "sagemaker_session = sagemaker.Session(default_bucket=bucket_name)\n",
    "prefix = 'mnist'\n",
    "\n",
    "# Uploads the local MNIST data to S3\n",
    "s3_location = sagemaker_session.upload_data(\n",
    "    path=local_data_dir, \n",
    "    bucket=bucket_name,\n",
    "    key_prefix=prefix\n",
    ")\n",
    "\n",
    "channels = {\n",
    "    \"training\": s3_location,\n",
    "    \"testing\": s3_location\n",
    "}"
   ]
  },
  {
   "cell_type": "markdown",
   "metadata": {},
   "source": [
    "### 2. SageMaker Training/Hyperparameter Tuning Job Creation"
   ]
  },
  {
   "cell_type": "code",
   "execution_count": 5,
   "metadata": {},
   "outputs": [],
   "source": [
    "from sagemaker.tensorflow import TensorFlow"
   ]
  },
  {
   "cell_type": "code",
   "execution_count": 25,
   "metadata": {},
   "outputs": [],
   "source": [
    "sagemaker_role = sagemaker.get_execution_role()\n",
    "\n",
    "# Creates the SageMaker training job using the TensorFlow estimator\n",
    "sagemaker_estimator = TensorFlow(\n",
    "    entry_point='train.py',\n",
    "    source_dir='code',\n",
    "    role=sagemaker_role,\n",
    "    framework_version='2.3.0',\n",
    "    model_dir='/opt/ml/model',\n",
    "    py_version='py37',\n",
    "    instance_type='ml.m5.4xlarge',\n",
    "    instance_count=1,\n",
    "    hyperparameters={\n",
    "        'batch-size':512,\n",
    "        'epochs':4\n",
    "    },\n",
    "#     output_path=s3_location\n",
    ")"
   ]
  },
  {
   "cell_type": "code",
   "execution_count": 26,
   "metadata": {},
   "outputs": [],
   "source": [
    "from sagemaker.tuner import ContinuousParameter, HyperparameterTuner"
   ]
  },
  {
   "cell_type": "code",
   "execution_count": 27,
   "metadata": {},
   "outputs": [
    {
     "name": "stdout",
     "output_type": "stream",
     "text": [
      ".............................................!\n"
     ]
    }
   ],
   "source": [
    "# Creates the SageMaker hyperparameter tuner\n",
    "sagemaker_tuner = HyperparameterTuner(\n",
    "    estimator=sagemaker_estimator,\n",
    "    objective_metric_name='average test loss',\n",
    "    hyperparameter_ranges={\n",
    "        'learning-rate': ContinuousParameter(1e-4, 1e-3)\n",
    "    },\n",
    "    metric_definitions=[\n",
    "        {\n",
    "            'Name': 'average test loss',\n",
    "            'Regex': 'Test Loss: ([0-9\\\\.]+)' # Corresponding line in code/train.py (168)\n",
    "        }\n",
    "    ],\n",
    "    max_jobs=4,\n",
    "    max_parallel_jobs=2,\n",
    "    objective_type='Minimize'\n",
    ")\n",
    "\n",
    "sagemaker_tuner.fit(inputs=channels)"
   ]
  },
  {
   "cell_type": "markdown",
   "metadata": {},
   "source": [
    "### 3. SageMaker Endpoint Deployment"
   ]
  },
  {
   "cell_type": "code",
   "execution_count": 28,
   "metadata": {},
   "outputs": [
    {
     "name": "stdout",
     "output_type": "stream",
     "text": [
      "\n",
      "2021-01-29 20:23:42 Starting - Preparing the instances for training\n",
      "2021-01-29 20:23:42 Downloading - Downloading input data\n",
      "2021-01-29 20:23:42 Training - Training image download completed. Training in progress.\n",
      "2021-01-29 20:23:42 Uploading - Uploading generated training model\n",
      "2021-01-29 20:23:42 Completed - Training job completed"
     ]
    },
    {
     "name": "stderr",
     "output_type": "stream",
     "text": [
      "update_endpoint is a no-op in sagemaker>=2.\n",
      "See: https://sagemaker.readthedocs.io/en/stable/v2.html for details.\n"
     ]
    },
    {
     "name": "stdout",
     "output_type": "stream",
     "text": [
      "\n",
      "-----------------!"
     ]
    }
   ],
   "source": [
    "# Deploys a SageMaker hyperparameter endpoint\n",
    "sagemaker_endpoint = sagemaker_tuner.deploy(\n",
    "    initial_instance_count=1,\n",
    "    instance_type='ml.t2.medium',\n",
    "    endpoint_name='mnist_sagemaker_endpoint'\n",
    ")"
   ]
  },
  {
   "cell_type": "markdown",
   "metadata": {},
   "source": [
    "### 4. Resource Cleanup"
   ]
  },
  {
   "cell_type": "code",
   "execution_count": 30,
   "metadata": {},
   "outputs": [],
   "source": [
    "sagemaker_endpoint.delete_endpoint()"
   ]
  },
  {
   "cell_type": "code",
   "execution_count": null,
   "metadata": {},
   "outputs": [],
   "source": []
  }
 ],
 "metadata": {
  "kernelspec": {
   "display_name": "conda_tensorflow2_p36",
   "language": "python",
   "name": "conda_tensorflow2_p36"
  },
  "language_info": {
   "codemirror_mode": {
    "name": "ipython",
    "version": 3
   },
   "file_extension": ".py",
   "mimetype": "text/x-python",
   "name": "python",
   "nbconvert_exporter": "python",
   "pygments_lexer": "ipython3",
   "version": "3.6.10"
  }
 },
 "nbformat": 4,
 "nbformat_minor": 4
}
